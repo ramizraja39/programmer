{
 "cells": [
  {
   "cell_type": "code",
   "execution_count": 2,
   "metadata": {},
   "outputs": [
    {
     "name": "stdout",
     "output_type": "stream",
     "text": [
      "the factorial of 8 is 40320\n"
     ]
    }
   ],
   "source": [
    "def fact (number):\n",
    "    factorial = 1\n",
    "    if number < 1:\n",
    "        print(\"factorial of negative number does not exist\")\n",
    "    elif number == 0:\n",
    "        print(\"the factorial of 0 is 1\")\n",
    "    else:\n",
    "        for i in range(1,number + 1):\n",
    "            factorial=factorial*i\n",
    "        print(\"the factorial of\",number ,\"is\",factorial)\n",
    "        \n",
    "fact(8)\n",
    "        \n",
    "            "
   ]
  },
  {
   "cell_type": "code",
   "execution_count": 3,
   "metadata": {},
   "outputs": [
    {
     "name": "stdout",
     "output_type": "stream",
     "text": [
      "Original String :  The quick Brown Fox\n",
      "No. of Upper case characters :  3\n",
      "No. of Lower case Characters :  13\n"
     ]
    }
   ],
   "source": [
    "def lowAndUp(s):\n",
    "    d={\"UPPER_CASE\":0, \"LOWER_CASE\":0}\n",
    "    for c in s:\n",
    "        if c.isupper():\n",
    "           d[\"UPPER_CASE\"]+=1\n",
    "        elif c.islower():\n",
    "           d[\"LOWER_CASE\"]+=1\n",
    "        else:\n",
    "           pass\n",
    "    print (\"Original String : \", s)\n",
    "    print (\"No. of Upper case characters : \", d[\"UPPER_CASE\"])\n",
    "    print (\"No. of Lower case Characters : \", d[\"LOWER_CASE\"])\n",
    "\n",
    "lowAndUp('The quick Brown Fox')"
   ]
  },
  {
   "cell_type": "code",
   "execution_count": 4,
   "metadata": {},
   "outputs": [
    {
     "name": "stdout",
     "output_type": "stream",
     "text": [
      "44\n",
      "78\n",
      "22\n"
     ]
    }
   ],
   "source": [
    "isEven = [67, 65, 44, 33, 78, 22]\n",
    "for x in isEven:\n",
    "    if x%2==0:\n",
    "        print (x)"
   ]
  },
  {
   "cell_type": "code",
   "execution_count": 5,
   "metadata": {},
   "outputs": [
    {
     "name": "stdout",
     "output_type": "stream",
     "text": [
      "No it is not Palindrome\n"
     ]
    }
   ],
   "source": [
    "def reverse(s):\n",
    "    return s[::-1]\n",
    "\n",
    "def checkPalind(s):\n",
    "    rev = reverse(s)\n",
    "    \n",
    "    if (s == rev):\n",
    "        return True\n",
    "    return False\n",
    "\n",
    "X= checkPalind(\"reviver\")\n",
    "\n",
    "if x == 1:\n",
    "    print(\"Yes it is a Palindrome\")\n",
    "else:\n",
    "    print(\"No it is not Palindrome\")\n"
   ]
  },
  {
   "cell_type": "code",
   "execution_count": 9,
   "metadata": {},
   "outputs": [
    {
     "name": "stdout",
     "output_type": "stream",
     "text": [
      "13  is a prime number\n"
     ]
    }
   ],
   "source": [
    "def ifPrime (number):\n",
    "    if number > 1:\n",
    "        for i in range (2, number//2):\n",
    "            if (number % i) == 0:\n",
    "                print(number, \" is not a prime number\")\n",
    "                break\n",
    "            else:\n",
    "                print(number, \" is a prime number\")\n",
    "                break\n",
    "    else:           \n",
    "         print(number, \" is not a prime number\")\n",
    "            \n",
    "ifPrime(13)            "
   ]
  },
  {
   "cell_type": "code",
   "execution_count": 10,
   "metadata": {},
   "outputs": [
    {
     "name": "stdout",
     "output_type": "stream",
     "text": [
      "('fish', 'meat', 'vegetables', 'fruit')\n"
     ]
    }
   ],
   "source": [
    "def Shopping (*items):\n",
    "    print(items)\n",
    "    \n",
    "Shopping(\"fish\", \"meat\", \"vegetables\", \"fruit\")    "
   ]
  },
  {
   "cell_type": "code",
   "execution_count": null,
   "metadata": {},
   "outputs": [],
   "source": []
  }
 ],
 "metadata": {
  "kernelspec": {
   "display_name": "Python 3",
   "language": "python",
   "name": "python3"
  },
  "language_info": {
   "codemirror_mode": {
    "name": "ipython",
    "version": 3
   },
   "file_extension": ".py",
   "mimetype": "text/x-python",
   "name": "python",
   "nbconvert_exporter": "python",
   "pygments_lexer": "ipython3",
   "version": "3.7.5"
  }
 },
 "nbformat": 4,
 "nbformat_minor": 2
}
