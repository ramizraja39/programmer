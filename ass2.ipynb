{
 "cells": [
  {
   "cell_type": "code",
   "execution_count": 1,
   "metadata": {},
   "outputs": [
    {
     "name": "stdout",
     "output_type": "stream",
     "text": [
      "Enter marks of the English   :87\n",
      "Enter marks of the Math      :90\n",
      "Enter marks of the Physics   :85\n",
      "Enter marks of the Chemistry:82\n",
      "Enter marks of the Pak Study  :75\n",
      "Grade: A+\n"
     ]
    }
   ],
   "source": [
    "eng=int(input(\"Enter marks of the English   :\"))\n",
    "mth=int(input(\"Enter marks of the Math      :\"))\n",
    "phy=int(input(\"Enter marks of the Physics   :\"))\n",
    "chem=int(input(\"Enter marks of the Chemistry:\"))\n",
    "ps=int(input(\"Enter marks of the Pak Study  :\"))\n",
    "total=500\n",
    "obtained=eng+mth+phy+chem+ps\n",
    "percent= (obtained / total)*100\n",
    "if(percent>=80 and percent<=100):\n",
    "    print(\"Grade: A+\")\n",
    "elif(percent>=70 and percent<80):\n",
    "    print(\"Grade: A\")\n",
    "elif(percent>=60 and percent<70):\n",
    "    print(\"Grade: B\")\n",
    "elif(percent>=50 and percent<60):\n",
    "    print(\"Grade: C\")\n",
    "elif(percent>=40 and percent<50):\n",
    "    print(\"Grade: D\")\n",
    "else:\n",
    "    print(\"Fail\")"
   ]
  },
  {
   "cell_type": "code",
   "execution_count": 2,
   "metadata": {},
   "outputs": [
    {
     "name": "stdout",
     "output_type": "stream",
     "text": [
      "Enter any number:44\n",
      "The number is Even\n"
     ]
    }
   ],
   "source": [
    "n=int(input(\"Enter any number:\"))\n",
    "if(n%2==0):\n",
    "   print(\"The number is Even\")\n",
    "else:\n",
    "   print(\"The number is odd\")"
   ]
  },
  {
   "cell_type": "code",
   "execution_count": 5,
   "metadata": {},
   "outputs": [
    {
     "name": "stdout",
     "output_type": "stream",
     "text": [
      "The length of list is:  6\n"
     ]
    }
   ],
   "source": [
    "a = len([10,20,30,40,50,60]) \n",
    "print(\"The length of list is: \", a) "
   ]
  },
  {
   "cell_type": "code",
   "execution_count": 6,
   "metadata": {},
   "outputs": [
    {
     "name": "stdout",
     "output_type": "stream",
     "text": [
      "18\n"
     ]
    }
   ],
   "source": [
    "def sum(numbers):\n",
    "    total = 0\n",
    "    for x in numbers:\n",
    "        total += x\n",
    "    return total\n",
    "print(sum((1, 2, 3, 5, 7)))"
   ]
  },
  {
   "cell_type": "code",
   "execution_count": 13,
   "metadata": {},
   "outputs": [
    {
     "name": "stdout",
     "output_type": "stream",
     "text": [
      "Largest element is: 90\n"
     ]
    }
   ],
   "source": [
    "lst = [12,14,30,90,33,22]\n",
    "print(\"Largest element is:\", max(lst))\n"
   ]
  },
  {
   "cell_type": "code",
   "execution_count": 14,
   "metadata": {},
   "outputs": [
    {
     "name": "stdout",
     "output_type": "stream",
     "text": [
      "[1, 1, 2, 3]\n"
     ]
    }
   ],
   "source": [
    "lst = [1, 1, 2, 3, 5, 8, 13, 21, 34, 55, 89]\n",
    "lst2 = []\n",
    "for item in lst:\n",
    "    if item < 5: \n",
    "        lst2.append(item)\n",
    "print(lst2)"
   ]
  },
  {
   "cell_type": "code",
   "execution_count": null,
   "metadata": {},
   "outputs": [],
   "source": []
  }
 ],
 "metadata": {
  "kernelspec": {
   "display_name": "Python 3",
   "language": "python",
   "name": "python3"
  },
  "language_info": {
   "codemirror_mode": {
    "name": "ipython",
    "version": 3
   },
   "file_extension": ".py",
   "mimetype": "text/x-python",
   "name": "python",
   "nbconvert_exporter": "python",
   "pygments_lexer": "ipython3",
   "version": "3.7.5"
  }
 },
 "nbformat": 4,
 "nbformat_minor": 2
}
